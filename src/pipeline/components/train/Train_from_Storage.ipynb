{
 "cells": [
  {
   "cell_type": "code",
   "execution_count": 1,
   "metadata": {
    "colab": {},
    "colab_type": "code",
    "id": "bCp6qii9DU_g"
   },
   "outputs": [],
   "source": [
    "from azure.storage.file import FileService\n",
    "from azure.storage.file import ContentSettings\n",
    "\n",
    "import cv2\n",
    "import numpy as np"
   ]
  },
  {
   "cell_type": "code",
   "execution_count": 2,
   "metadata": {
    "colab": {},
    "colab_type": "code",
    "id": "82ySAG35DU_k"
   },
   "outputs": [],
   "source": [
    "file_service = FileService(account_name='covidmodels', account_key='cem1AQ/4Kb+OwutpMredIKiWqeEvP29BGfaCOudw0NIHyo1U+tMF6tbheJF4zeR42L6TIEv+/MPIDdLnCnO5xw==')"
   ]
  },
  {
   "cell_type": "code",
   "execution_count": null,
   "metadata": {
    "colab": {},
    "colab_type": "code",
    "id": "fKYYpSvVDU_m"
   },
   "outputs": [],
   "source": []
  },
  {
   "cell_type": "code",
   "execution_count": 3,
   "metadata": {
    "colab": {},
    "colab_type": "code",
    "id": "Gt25jvHNDU_o"
   },
   "outputs": [],
   "source": [
    "data = []\n",
    "labels = []"
   ]
  },
  {
   "cell_type": "code",
   "execution_count": 4,
   "metadata": {
    "colab": {},
    "colab_type": "code",
    "id": "JhFT1sYsDU_q",
    "outputId": "3c2c3776-3e12-49f6-dfef-b2dc967d3d60"
   },
   "outputs": [
    {
     "name": "stdout",
     "output_type": "stream",
     "text": [
      "COIVD - 01E392EE-69F9-4E33-BFCE-E5C968654078.jpeg | NORMAL - IM-0166-0001.jpeg\n"
     ]
    },
    {
     "name": "stderr",
     "output_type": "stream",
     "text": [
      "/home/k4rth33k/.local/lib/python3.6/site-packages/ipykernel_launcher.py:12: DeprecationWarning: The binary mode of fromstring is deprecated, as it behaves surprisingly on unicode inputs. Use frombuffer instead\n",
      "  if sys.path[0] == '':\n"
     ]
    },
    {
     "name": "stdout",
     "output_type": "stream",
     "text": [
      "COIVD - 03BF7561-A9BA-4C3C-B8A0-D3E585F73F3C.jpeg | NORMAL - IM-0608-0001.jpeg\n",
      "COIVD - 1-s2.0-S0140673620303706-fx1_lrg.jpg | NORMAL - IM-0294-0001.jpeg\n",
      "COIVD - 1-s2.0-S0929664620300449-gr2_lrg-a.jpg | NORMAL - IM-0278-0001.jpeg\n",
      "COIVD - 1-s2.0-S0929664620300449-gr2_lrg-b.jpg | NORMAL - IM-0475-0001.jpeg\n",
      "COIVD - 1-s2.0-S0929664620300449-gr2_lrg-c.jpg | NORMAL - IM-0640-0001.jpeg\n",
      "COIVD - 1-s2.0-S0929664620300449-gr2_lrg-d.jpg | NORMAL - IM-0149-0001.jpeg\n",
      "COIVD - 1-s2.0-S0929664620300449-gr3_lrg-a.jpg | NORMAL - IM-0482-0001.jpeg\n",
      "COIVD - 1-s2.0-S0929664620300449-gr3_lrg-b.jpg | NORMAL - IM-0645-0001.jpeg\n",
      "COIVD - 1-s2.0-S0929664620300449-gr3_lrg-c.jpg | NORMAL - IM-0509-0001-0001.jpeg\n",
      "COIVD - 1-s2.0-S0929664620300449-gr3_lrg-d.jpg | NORMAL - IM-0241-0001.jpeg\n",
      "COIVD - 1-s2.0-S1684118220300608-main.pdf-001.jpg | NORMAL - IM-0392-0001.jpeg\n",
      "COIVD - 1-s2.0-S1684118220300608-main.pdf-002.jpg | NORMAL - IM-0429-0001.jpeg\n",
      "COIVD - 1-s2.0-S1684118220300682-main.pdf-002-a1.png | NORMAL - IM-0395-0001.jpeg\n",
      "COIVD - 1-s2.0-S1684118220300682-main.pdf-002-a2.png | NORMAL - IM-0298-0001.jpeg\n",
      "COIVD - 1-s2.0-S1684118220300682-main.pdf-003-b1.png | NORMAL - IM-0324-0001.jpeg\n",
      "COIVD - 1-s2.0-S1684118220300682-main.pdf-003-b2.png | NORMAL - IM-0389-0001.jpeg\n",
      "COIVD - 1.CXRCTThoraximagesofCOVID-19fromSingapore.pdf-000-fig1a.png | NORMAL - IM-0538-0001.jpeg\n",
      "COIVD - 1.CXRCTThoraximagesofCOVID-19fromSingapore.pdf-000-fig1b.png | NORMAL - IM-0384-0001.jpeg\n",
      "COIVD - 1.CXRCTThoraximagesofCOVID-19fromSingapore.pdf-001-fig2a.png | NORMAL - IM-0300-0001.jpeg\n",
      "COIVD - 1.CXRCTThoraximagesofCOVID-19fromSingapore.pdf-001-fig2b.png | NORMAL - IM-0584-0001.jpeg\n",
      "COIVD - 1.CXRCTThoraximagesofCOVID-19fromSingapore.pdf-002-fig3a.png | NORMAL - IM-0424-0001.jpeg\n",
      "COIVD - 1.CXRCTThoraximagesofCOVID-19fromSingapore.pdf-002-fig3b.png | NORMAL - IM-0228-0001.jpeg\n",
      "COIVD - 1.CXRCTThoraximagesofCOVID-19fromSingapore.pdf-003-fig4a.png | NORMAL - IM-0457-0001.jpeg\n",
      "COIVD - 1.CXRCTThoraximagesofCOVID-19fromSingapore.pdf-003-fig4b.png | NORMAL - IM-0525-0001.jpeg\n",
      "COIVD - 1312A392-67A3-4EBF-9319-810CF6DA5EF6.jpeg | NORMAL - IM-0206-0001.jpeg\n",
      "COIVD - 171CB377-62FF-4B76-906C-F3787A01CB2E.jpeg | NORMAL - IM-0618-0001-0001.jpeg\n",
      "COIVD - 191F3B3A-2879-4EF3-BE56-EE0D2B5AAEE3.jpeg | NORMAL - IM-0557-0001.jpeg\n",
      "COIVD - 1B734A89-A1BF-49A8-A1D3-66FAFA4FAC5D.jpeg | NORMAL - IM-0624-0001-0002.jpeg\n",
      "COIVD - 1F6343EE-AFEC-4B7D-97F5-62797EE18767.jpeg | NORMAL - IM-0115-0001.jpeg\n",
      "COIVD - 21DDEBFD-7F16-4E3E-8F90-CB1B8EE82828.jpeg | NORMAL - IM-0351-0001.jpeg\n",
      "COIVD - 23E99E2E-447C-46E5-8EB2-D35D12473C39.png | NORMAL - IM-0266-0001.jpeg\n",
      "COIVD - 254B82FC-817D-4E2F-AB6E-1351341F0E38.jpeg | NORMAL - IM-0595-0001.jpeg\n",
      "COIVD - 2966893D-5DDF-4B68-9E2B-4979D5956C8E.jpeg | NORMAL - IM-0539-0001-0002.jpeg\n",
      "COIVD - 2B8649B2-00C4-4233-85D5-1CE240CF233B.jpeg | NORMAL - IM-0209-0001.jpeg\n",
      "COIVD - 2C10A413-AABE-4807-8CCE-6A2025594067.jpeg | NORMAL - IM-0472-0001.jpeg\n",
      "COIVD - 2C26F453-AF3B-4517-BB9E-802CF2179543.jpeg | NORMAL - IM-0565-0001.jpeg\n",
      "COIVD - 31BA3780-2323-493F-8AED-62081B9C383B.jpeg | NORMAL - IM-0231-0001.jpeg\n",
      "COIVD - 353889E0-A1E8-4F9E-A0B8-F24F36BCFBFB.jpeg | NORMAL - IM-0533-0001-0001.jpeg\n",
      "COIVD - 35AF5C3B-D04D-4B4B-92B7-CB1F67D83085.jpeg | NORMAL - IM-0643-0001.jpeg\n",
      "COIVD - 396A81A5-982C-44E9-A57E-9B1DC34E2C08.jpeg | NORMAL - IM-0626-0001-0001.jpeg\n",
      "COIVD - 39EE8E69-5801-48DE-B6E3-BE7D1BCF3092.jpeg | NORMAL - IM-0523-0001-0001.jpeg\n",
      "COIVD - 3ED3C0E1-4FE0-4238-8112-DDFF9E20B471.jpeg | NORMAL - IM-0618-0001-0002.jpeg\n",
      "COIVD - 41591_2020_819_Fig1_HTML.webp-day10.png | NORMAL - IM-0545-0001-0001.jpeg\n",
      "COIVD - 41591_2020_819_Fig1_HTML.webp-day5.png | NORMAL - IM-0189-0001.jpeg\n",
      "COIVD - 446B2CB6-B572-40AB-B01F-1910CA07086A.jpeg | NORMAL - IM-0505-0001.jpeg\n",
      "COIVD - 44C8E3D6-20DA-42E9-B33B-96FA6D6DE12F.jpeg | NORMAL - IM-0429-0001-0002.jpeg\n",
      "COIVD - 4C4DEFD8-F55D-4588-AAD6-C59017F55966.jpeg | NORMAL - IM-0531-0001.jpeg\n",
      "COIVD - 53EC07C9-5CC6-4BE4-9B6F-D7B0D72AAA7E.jpeg | NORMAL - IM-0577-0001.jpeg\n",
      "COIVD - 58cb9263f16e94305c730685358e4e_jumbo.jpeg | NORMAL - IM-0561-0001.jpeg\n",
      "COIVD - 5931B64A-7B97-485D-BE60-3F1EA76BC4F0.jpeg | NORMAL - IM-0479-0001.jpeg\n",
      "COIVD - 5A78BCA9-5B7A-440D-8A4E-AE7710EA6EAD.jpeg | NORMAL - IM-0147-0001.jpeg\n",
      "COIVD - 5CBC2E94-D358-401E-8928-965CCD965C5C.jpeg | NORMAL - IM-0492-0001.jpeg\n",
      "COIVD - 5e6dd879fde9502400e58b2f.jpeg | NORMAL - IM-0534-0001.jpeg\n",
      "COIVD - 66298CBF-6F10-42D5-A688-741F6AC84A76.jpeg | NORMAL - IM-0213-0001.jpeg\n",
      "COIVD - 6A7D4110-2BFC-4D9A-A2D6-E9226D91D25A.jpeg | NORMAL - IM-0292-0001.jpeg\n",
      "COIVD - 6b44464d-73a7-4cf3-bbb6-ffe7168300e3.annot.original.jpeg | NORMAL - IM-0215-0001.jpeg\n",
      "COIVD - 6C94A287-C059-46A0-8600-AFB95F4727B7.jpeg | NORMAL - IM-0403-0001.jpeg\n",
      "COIVD - 6CB4EFC6-68FA-4CD5-940C-BEFA8DAFE9A7.jpeg | NORMAL - IM-0301-0001.jpeg\n",
      "COIVD - 7AF6C1AF-D249-4BD2-8C26-449304105D03.jpeg | NORMAL - IM-0463-0001.jpeg\n",
      "COIVD - 7C69C012-7479-493F-8722-ABC29C60A2DD.jpeg | NORMAL - IM-0305-0001.jpeg\n",
      "COIVD - 7D2CF6CE-F529-4470-8356-D33FFAF98600.jpeg | NORMAL - IM-0408-0001.jpeg\n",
      "COIVD - 7E335538-2F86-424E-A0AB-6397783A38D0.jpeg | NORMAL - IM-0327-0001.jpeg\n",
      "COIVD - 7EF28E12-F628-4BEC-A8C5-E6277C2E4F60.png | NORMAL - IM-0529-0001.jpeg\n",
      "COIVD - 80446565-E090-4187-A031-9D3CEAA586C8.jpeg | NORMAL - IM-0423-0001.jpeg\n",
      "COIVD - 85E52EB3-56E9-4D67-82DA-DEA247C82886.jpeg | NORMAL - IM-0177-0001.jpeg\n",
      "COIVD - 8FDE8DBA-CFBD-4B4C-B1A4-6F36A93B7E87.jpeg | NORMAL - IM-0430-0001.jpeg\n",
      "COIVD - 925446AE-B3C7-4C93-941B-AC4D2FE1F455.jpeg | NORMAL - IM-0649-0001.jpeg\n",
      "COIVD - 93FE0BB1-022D-4F24-9727-987A07975FFB.jpeg | NORMAL - IM-0255-0001.jpeg\n",
      "COIVD - 9C34AF49-E589-44D5-92D3-168B3B04E4A6.jpeg | NORMAL - IM-0647-0001.jpeg\n",
      "COIVD - 9fdd3c3032296fd04d2cad5d9070d4_jumbo.jpeg | NORMAL - IM-0614-0001.jpeg\n",
      "COIVD - a1a7d22e66f6570df523e0077c6a5a_jumbo.jpeg | NORMAL - IM-0329-0001.jpeg\n",
      "COIVD - all14238-fig-0001-m-b.jpg | NORMAL - IM-0618-0001.jpeg\n",
      "COIVD - all14238-fig-0001-m-c.jpg | NORMAL - IM-0654-0001.jpeg\n",
      "COIVD - all14238-fig-0002-m-d.jpg | NORMAL - IM-0315-0001.jpeg\n",
      "COIVD - all14238-fig-0002-m-e.jpg | NORMAL - IM-0593-0001.jpeg\n",
      "COIVD - all14238-fig-0002-m-f.jpg | NORMAL - IM-0227-0001.jpeg\n",
      "COIVD - auntminnie-a-2020_01_28_23_51_6665_2020_01_28_Vietnam_coronavirus.jpeg | NORMAL - IM-0332-0001.jpeg\n",
      "COIVD - auntminnie-b-2020_01_28_23_51_6665_2020_01_28_Vietnam_coronavirus.jpeg | NORMAL - IM-0537-0001.jpeg\n",
      "COIVD - auntminnie-c-2020_01_28_23_51_6665_2020_01_28_Vietnam_coronavirus.jpeg | NORMAL - IM-0283-0001.jpeg\n",
      "COIVD - auntminnie-d-2020_01_28_23_51_6665_2020_01_28_Vietnam_coronavirus.jpeg | NORMAL - IM-0539-0001-0001.jpeg\n",
      "COIVD - B2D20576-00B7-4519-A415-72DE29C90C34.jpeg | NORMAL - IM-0277-0001.jpeg\n",
      "COIVD - B59DD164-51D5-40DF-A926-6A42DD52EBE8.jpeg | NORMAL - IM-0510-0001.jpeg\n",
      "COIVD - C6EA0BE5-B01E-4113-B194-18D956675E25.jpeg | NORMAL - IM-0444-0001.jpeg\n",
      "COIVD - CD50BA96-6982-4C80-AE7B-5F67ACDBFA56.jpeg | NORMAL - IM-0160-0001.jpeg\n",
      "COIVD - ciaa199.pdf-001-a.png | NORMAL - IM-0306-0001.jpeg\n",
      "COIVD - ciaa199.pdf-001-b.png | NORMAL - IM-0337-0001.jpeg\n",
      "COIVD - ciaa199.pdf-001-c.png | NORMAL - IM-0622-0001.jpeg\n",
      "COIVD - covid-19-infection-exclusive-gastrointestinal-symptoms-l.png | NORMAL - IM-0387-0001.jpeg\n",
      "COIVD - covid-19-infection-exclusive-gastrointestinal-symptoms-pa.png | NORMAL - IM-0495-0001.jpeg\n",
      "COIVD - covid-19-pneumonia-12.jpg | NORMAL - IM-0375-0001.jpeg\n",
      "COIVD - covid-19-pneumonia-14-L.png | NORMAL - IM-0633-0001.jpeg\n",
      "COIVD - covid-19-pneumonia-14-PA.png | NORMAL - IM-0359-0001.jpeg\n",
      "COIVD - covid-19-pneumonia-15-L.jpg | NORMAL - IM-0437-0001.jpeg\n",
      "COIVD - covid-19-pneumonia-15-PA.jpg | NORMAL - IM-0642-0001.jpeg\n",
      "COIVD - covid-19-pneumonia-19.jpg | NORMAL - IM-0137-0001.jpeg\n",
      "COIVD - covid-19-pneumonia-2.jpg | NORMAL - IM-0473-0001.jpeg\n",
      "COIVD - covid-19-pneumonia-24-day12.jpg | NORMAL - IM-0599-0001.jpeg\n",
      "COIVD - covid-19-pneumonia-24-day6.jpg | NORMAL - IM-0511-0001.jpeg\n",
      "COIVD - covid-19-pneumonia-24-day7.jpg | NORMAL - IM-0170-0001.jpeg\n",
      "COIVD - covid-19-pneumonia-28.png | NORMAL - IM-0631-0001.jpeg\n",
      "COIVD - covid-19-pneumonia-30-L.jpg | NORMAL - IM-0623-0001.jpeg\n",
      "COIVD - covid-19-pneumonia-30-PA.jpg | NORMAL - IM-0226-0001.jpeg\n",
      "COIVD - covid-19-pneumonia-7-L.jpg | NORMAL - IM-0606-0001.jpeg\n",
      "COIVD - covid-19-pneumonia-7-PA.jpg | NORMAL - IM-0282-0001.jpeg\n"
     ]
    },
    {
     "name": "stdout",
     "output_type": "stream",
     "text": [
      "COIVD - covid-19-pneumonia-evolution-over-a-week-1-day0-L.jpg | NORMAL - IM-0474-0001.jpeg\n",
      "COIVD - covid-19-pneumonia-evolution-over-a-week-1-day0-PA.jpg | NORMAL - IM-0553-0001-0003.jpeg\n",
      "COIVD - covid-19-pneumonia-evolution-over-a-week-1-day3.jpg | NORMAL - IM-0523-0001-0003.jpeg\n",
      "COIVD - covid-19-pneumonia-evolution-over-a-week-1-day4.jpg | NORMAL - IM-0330-0001.jpeg\n",
      "COIVD - covid-19-pneumonia-rapidly-progressive-12-hours.jpg | NORMAL - IM-0641-0001.jpeg\n",
      "COIVD - covid-19-pneumonia-rapidly-progressive-3-days.jpg | NORMAL - IM-0535-0001.jpeg\n",
      "COIVD - covid-19-pneumonia-rapidly-progressive-admission.jpg | NORMAL - IM-0238-0001.jpeg\n",
      "COIVD - covid-19-rapidly-progressive-acute-respiratory-distress-syndrome-ards-admission.jpg | NORMAL - IM-0325-0001.jpeg\n",
      "COIVD - covid-19-rapidly-progressive-acute-respiratory-distress-syndrome-ards-day-1.jpg | NORMAL - IM-0578-0001.jpeg\n",
      "COIVD - covid-19-rapidly-progressive-acute-respiratory-distress-syndrome-ards-day-2.jpg | NORMAL - IM-0439-0001-0001.jpeg\n",
      "COIVD - D5ACAA93-C779-4E22-ADFA-6A220489F840.jpeg | NORMAL - IM-0382-0001.jpeg\n",
      "COIVD - D7AF463C-2369-492D-908D-BE1911CCD74C.jpeg | NORMAL - IM-0467-0001.jpeg\n",
      "COIVD - DE488FE1-0C44-428B-B67A-09741C1214C0.jpeg | NORMAL - IM-0564-0001.jpeg\n",
      "COIVD - E1724330-1866-4581-8CD8-CEC9B8AFEDDE.jpeg | NORMAL - IM-0269-0001.jpeg\n",
      "COIVD - E63574A7-4188-4C8D-8D17-9D67A18A1AFA.jpeg | NORMAL - IM-0488-0001.jpeg\n",
      "COIVD - F2DE909F-E19C-4900-92F5-8F435B031AC6.jpeg | NORMAL - IM-0491-0001.jpeg\n",
      "COIVD - F4341CE7-73C9-45C6-99C8-8567A5484B63.jpeg | NORMAL - IM-0522-0001.jpeg\n",
      "COIVD - F63AB6CE-1968-4154-A70F-913AF154F53D.jpeg | NORMAL - IM-0193-0001.jpeg\n",
      "COIVD - FC230FE2-1DDF-40EB-AA0D-21F950933289.jpeg | NORMAL - IM-0509-0001-0002.jpeg\n",
      "COIVD - FE9F9A5D-2830-46F9-851B-1FF4534959BE.jpeg | NORMAL - IM-0651-0001.jpeg\n",
      "COIVD - figure1-5e71be566aa8714a04de3386-98-left.jpeg | NORMAL - IM-0491-0001-0002.jpeg\n",
      "COIVD - figure1-5e73d7ae897e27ff066a30cb-98.jpeg | NORMAL - IM-0230-0001.jpeg\n",
      "COIVD - figure1-5e75d0940b71e1b702629659-98-right.jpeg | NORMAL - IM-0646-0001.jpeg\n",
      "COIVD - gr1_lrg-a.jpg | NORMAL - IM-0622-0001-0002.jpeg\n",
      "COIVD - gr1_lrg-b.jpg | NORMAL - IM-0385-0001.jpeg\n",
      "COIVD - jkms-35-e79-g001-l-a.jpg | NORMAL - IM-0361-0001.jpeg\n",
      "COIVD - jkms-35-e79-g001-l-b.jpg | NORMAL - IM-0453-0001-0002.jpeg\n",
      "COIVD - jkms-35-e79-g001-l-c.jpg | NORMAL - IM-0613-0001.jpeg\n",
      "COIVD - jkms-35-e79-g001-l-d.jpg | NORMAL - IM-0559-0001.jpeg\n",
      "COIVD - jkms-35-e79-g001-l-e.jpg | NORMAL - IM-0516-0001.jpeg\n",
      "COIVD - kjr-21-e24-g001-l-a.jpg | NORMAL - IM-0549-0001-0001.jpeg\n",
      "COIVD - kjr-21-e24-g001-l-b.jpg | NORMAL - IM-0448-0001.jpeg\n",
      "COIVD - kjr-21-e24-g001-l-c.jpg | NORMAL - IM-0119-0001.jpeg\n",
      "COIVD - kjr-21-e24-g002-l-a.jpg | NORMAL - IM-0546-0001.jpeg\n",
      "COIVD - kjr-21-e24-g002-l-b.jpg | NORMAL - IM-0222-0001.jpeg\n",
      "COIVD - kjr-21-e24-g002-l-c.jpg | NORMAL - IM-0456-0001.jpeg\n",
      "COIVD - kjr-21-e24-g003-l-a.jpg | NORMAL - IM-0486-0001.jpeg\n",
      "COIVD - kjr-21-e24-g003-l-b.jpg | NORMAL - IM-0261-0001.jpeg\n",
      "COIVD - kjr-21-e24-g004-l-a.jpg | NORMAL - IM-0511-0001-0001.jpeg\n",
      "COIVD - kjr-21-e24-g004-l-b.jpg | NORMAL - IM-0240-0001.jpeg\n",
      "COIVD - kjr-21-e25-g001-l-a.jpg | NORMAL - IM-0312-0001.jpeg\n",
      "COIVD - lancet-case2a.jpg | NORMAL - IM-0223-0001.jpeg\n",
      "COIVD - lancet-case2b.jpg | NORMAL - IM-0625-0001.jpeg\n",
      "COIVD - nCoV-radiol.2020200269.fig1-day7.jpeg | NORMAL - IM-0500-0001.jpeg\n",
      "COIVD - nejmc2001573_f1a.jpeg | NORMAL - IM-0274-0001.jpeg\n",
      "COIVD - nejmc2001573_f1b.jpeg | NORMAL - IM-0620-0001-0001.jpeg\n",
      "COIVD - nejmoa2001191_f1-L.jpeg | NORMAL - IM-0582-0001.jpeg\n",
      "COIVD - nejmoa2001191_f1-PA.jpeg | NORMAL - IM-0630-0001.jpeg\n",
      "COIVD - nejmoa2001191_f3-L.jpeg | NORMAL - IM-0370-0001.jpeg\n",
      "COIVD - nejmoa2001191_f3-PA.jpeg | NORMAL - IM-0257-0001.jpeg\n",
      "COIVD - nejmoa2001191_f4.jpeg | NORMAL - IM-0532-0001.jpeg\n",
      "COIVD - nejmoa2001191_f5-L.jpeg | NORMAL - IM-0497-0001-0002.jpeg\n",
      "COIVD - nejmoa2001191_f5-PA.jpeg | NORMAL - IM-0476-0001.jpeg\n",
      "COIVD - radiol.2020200490.fig3.jpeg | NORMAL - IM-0515-0001.jpeg\n",
      "COIVD - ryct.2020200028.fig1a.jpeg | NORMAL - IM-0416-0001.jpeg\n",
      "COIVD - ryct.2020200034.fig2.jpeg | NORMAL - IM-0164-0001.jpeg\n",
      "COIVD - ryct.2020200034.fig5-day0.jpeg | NORMAL - IM-0326-0001.jpeg\n",
      "COIVD - ryct.2020200034.fig5-day4.jpeg | NORMAL - IM-0409-0001.jpeg\n",
      "COIVD - ryct.2020200034.fig5-day7.jpeg | NORMAL - IM-0346-0001.jpeg\n"
     ]
    }
   ],
   "source": [
    "import os\n",
    "kaggle_data = os.listdir('./kaggle_data/')\n",
    "azure_data = file_service.list_directories_and_files('covid-share/data')\n",
    "\n",
    "for i, file_or_dir in enumerate(azure_data):\n",
    "    print(f'COIVD - {file_or_dir.name} | NORMAL - {kaggle_data[i]}')\n",
    "    \n",
    "    # Getting file from storage\n",
    "    byte_data = file_service.get_file_to_bytes('covid-share', \n",
    "                                               'data', \n",
    "                                               file_or_dir.name).content\n",
    "    np_bytes = np.fromstring(byte_data, np.uint8)\n",
    "    \n",
    "    # Reshape\n",
    "    az_img = cv2.imdecode(np_bytes, cv2.COLOR_BGR2RGB)\n",
    "    az_img = cv2.resize(az_img, (224, 224))\n",
    "    \n",
    "    data.append(az_img)\n",
    "    labels.append(1)\n",
    "    \n",
    "    kag_img = cv2.imread('./kaggle_data/' + kaggle_data[i])\n",
    "    kag_img = cv2.cvtColor(kag_img, cv2.COLOR_BGR2RGB)\n",
    "    kag_img = cv2.resize(kag_img, (224, 224))\n",
    "\n",
    "    data.append(kag_img)\n",
    "    labels.append(0)\n",
    "    \n",
    "#     break"
   ]
  },
  {
   "cell_type": "code",
   "execution_count": 5,
   "metadata": {
    "colab": {},
    "colab_type": "code",
    "id": "vko-WeBoDU_t",
    "outputId": "cfc5685a-295b-4c71-f5bc-35990d2fb632"
   },
   "outputs": [
    {
     "name": "stdout",
     "output_type": "stream",
     "text": [
      "Data: (328, 224, 224, 3)\n",
      "Labels (328,)\n"
     ]
    }
   ],
   "source": [
    "for i, d in enumerate(data):\n",
    "    if len(d.shape) == 2:\n",
    "        x = cv2.cvtColor(d, cv2.COLOR_BGR2RGB)\n",
    "        data[i] = x\n",
    "\n",
    "data = np.array(data).astype('float')\n",
    "labels = np.array(labels).astype('float')\n",
    "\n",
    "print('Data:', data.shape)\n",
    "print('Labels', labels.shape)"
   ]
  },
  {
   "cell_type": "code",
   "execution_count": 6,
   "metadata": {
    "colab": {},
    "colab_type": "code",
    "id": "J3E8ThY_DU_x"
   },
   "outputs": [],
   "source": [
    "data = data / 255"
   ]
  },
  {
   "cell_type": "code",
   "execution_count": 72,
   "metadata": {},
   "outputs": [],
   "source": [
    "import pickle\n",
    "\n",
    "# pickle.dump(data, open('data.pkl', 'wb'))\n",
    "# pickle.dump(labels, open('labels.pkl', 'wb'))\n",
    "\n",
    "data = pickle.load( open( \"data.pkl\", \"rb\" ) )\n",
    "labels = pickle.load( open( \"labels.pkl\", \"rb\" ) )"
   ]
  },
  {
   "cell_type": "code",
   "execution_count": 73,
   "metadata": {
    "colab": {},
    "colab_type": "code",
    "id": "wDxebgimDU_0"
   },
   "outputs": [],
   "source": [
    "from sklearn.model_selection import train_test_split\n",
    "X_train, X_test, y_train, y_test = train_test_split(data, labels, \n",
    "                                                    test_size=0.1, \n",
    "                                                    random_state=42)"
   ]
  },
  {
   "cell_type": "code",
   "execution_count": 74,
   "metadata": {
    "colab": {},
    "colab_type": "code",
    "id": "fTT2Kxa-DU_2"
   },
   "outputs": [],
   "source": [
    "from tensorflow.keras.preprocessing.image import ImageDataGenerator\n",
    "from tensorflow.keras.applications import VGG16\n",
    "from tensorflow.keras.layers import AveragePooling2D\n",
    "from tensorflow.keras.layers import Dropout\n",
    "from tensorflow.keras.layers import Flatten\n",
    "from tensorflow.keras.layers import Dense\n",
    "from tensorflow.keras.layers import Input\n",
    "from tensorflow.keras.models import Model\n",
    "from tensorflow.keras.optimizers import Adam\n",
    "from tensorflow.keras.utils import to_categorical\n",
    "from sklearn.preprocessing import LabelBinarizer\n",
    "from sklearn.metrics import classification_report\n",
    "from sklearn.metrics import confusion_matrix"
   ]
  },
  {
   "cell_type": "code",
   "execution_count": 75,
   "metadata": {
    "colab": {},
    "colab_type": "code",
    "id": "SrePzHi6DU_4"
   },
   "outputs": [],
   "source": [
    "INIT_LR = 1e-3\n",
    "EPOCHS = 4\n",
    "BS = 10"
   ]
  },
  {
   "cell_type": "code",
   "execution_count": 76,
   "metadata": {
    "colab": {},
    "colab_type": "code",
    "id": "vjCjJhrvDU_6"
   },
   "outputs": [],
   "source": [
    "baseModel = VGG16(weights=\"imagenet\", include_top=False,\n",
    "                    input_tensor=Input(shape=(224, 224, 3)))"
   ]
  },
  {
   "cell_type": "code",
   "execution_count": 77,
   "metadata": {
    "colab": {},
    "colab_type": "code",
    "id": "2cJ8QHp9DU_8"
   },
   "outputs": [],
   "source": [
    "headModel = baseModel.output\n",
    "headModel = AveragePooling2D(pool_size=(4, 4))(headModel)\n",
    "headModel = Flatten(name=\"flatten\")(headModel)\n",
    "headModel = Dense(64, activation=\"relu\")(headModel)\n",
    "headModel = Dropout(0.5)(headModel)\n",
    "headModel = Dense(1, activation=\"sigmoid\")(headModel)"
   ]
  },
  {
   "cell_type": "code",
   "execution_count": 78,
   "metadata": {
    "colab": {},
    "colab_type": "code",
    "id": "XGgIImjVDU_-"
   },
   "outputs": [],
   "source": [
    "model = Model(inputs=baseModel.input, outputs=headModel)"
   ]
  },
  {
   "cell_type": "code",
   "execution_count": 79,
   "metadata": {
    "colab": {},
    "colab_type": "code",
    "id": "hMwLG8TpDVAA"
   },
   "outputs": [],
   "source": [
    "for layer in baseModel.layers:\n",
    "    layer.trainable = False"
   ]
  },
  {
   "cell_type": "code",
   "execution_count": 80,
   "metadata": {
    "colab": {},
    "colab_type": "code",
    "id": "OtKx_iKRDVAC",
    "outputId": "a4980d7a-8ded-4743-cf52-7fe581e5cce3"
   },
   "outputs": [],
   "source": [
    "opt = Adam(lr=INIT_LR, decay=INIT_LR / EPOCHS)\n",
    "\n",
    "model.compile(loss=\"binary_crossentropy\", optimizer=opt,\n",
    "                metrics=[\"accuracy\"])"
   ]
  },
  {
   "cell_type": "code",
   "execution_count": 81,
   "metadata": {
    "colab": {},
    "colab_type": "code",
    "id": "G0azDO0dDVAE",
    "outputId": "ba7e8497-e7db-47eb-94c2-d8ecdd45d2ac"
   },
   "outputs": [
    {
     "name": "stdout",
     "output_type": "stream",
     "text": [
      "(295, 224, 224, 3)\n",
      "(295,)\n"
     ]
    }
   ],
   "source": [
    "print(X_train.shape)\n",
    "print(y_train.shape)\n"
   ]
  },
  {
   "cell_type": "code",
   "execution_count": 82,
   "metadata": {
    "colab": {},
    "colab_type": "code",
    "id": "SLhP6ZoaDVAG",
    "outputId": "a0b9ee32-0e21-492e-e893-a774dbf3a87a"
   },
   "outputs": [
    {
     "name": "stdout",
     "output_type": "stream",
     "text": [
      "Train on 265 samples, validate on 30 samples\n",
      "Epoch 1/4\n",
      "265/265 [==============================] - 135s 508ms/step - loss: 0.6082 - acc: 0.7245 - val_loss: 0.4500 - val_acc: 0.9000\n",
      "Epoch 2/4\n",
      "265/265 [==============================] - 182s 687ms/step - loss: 0.3658 - acc: 0.9245 - val_loss: 0.2948 - val_acc: 0.9667\n",
      "Epoch 3/4\n",
      "265/265 [==============================] - 174s 655ms/step - loss: 0.2440 - acc: 0.9509 - val_loss: 0.1713 - val_acc: 1.0000\n",
      "Epoch 4/4\n",
      "265/265 [==============================] - 200s 753ms/step - loss: 0.1696 - acc: 0.9698 - val_loss: 0.1224 - val_acc: 1.0000\n"
     ]
    }
   ],
   "source": [
    "H = model.fit(X_train, y_train, batch_size=BS,\n",
    "        validation_split=0.1,\n",
    "        epochs=EPOCHS)"
   ]
  },
  {
   "cell_type": "code",
   "execution_count": 83,
   "metadata": {
    "colab": {},
    "colab_type": "code",
    "id": "v8tPfhbaDVAI"
   },
   "outputs": [],
   "source": [
    "pred = model.predict(X_test, batch_size=BS)\n",
    "pred = np.where(predIdxs < 0.5, 0, 1)"
   ]
  },
  {
   "cell_type": "code",
   "execution_count": 84,
   "metadata": {},
   "outputs": [],
   "source": [
    "cm = confusion_matrix(y_test, pred)\n",
    "total = sum(sum(cm))\n",
    "acc = (cm[0, 0] + cm[1, 1]) / total\n",
    "sensitivity = cm[0, 0] / (cm[0, 0] + cm[0, 1])\n",
    "specificity = cm[1, 1] / (cm[1, 0] + cm[1, 1])"
   ]
  },
  {
   "cell_type": "code",
   "execution_count": 85,
   "metadata": {},
   "outputs": [
    {
     "name": "stdout",
     "output_type": "stream",
     "text": [
      "[[15  0]\n",
      " [ 1 17]]\n",
      "acc: 0.9697\n",
      "sensitivity: 1.0000\n",
      "specificity: 0.9444\n"
     ]
    }
   ],
   "source": [
    "print(cm)\n",
    "print(\"acc: {:.4f}\".format(acc))\n",
    "print(\"sensitivity: {:.4f}\".format(sensitivity))\n",
    "print(\"specificity: {:.4f}\".format(specificity))"
   ]
  },
  {
   "cell_type": "code",
   "execution_count": 86,
   "metadata": {},
   "outputs": [
    {
     "data": {
      "image/png": "[encoded data removed]",
      "text/plain": [
       "<Figure size 432x288 with 1 Axes>"
      ]
     },
     "metadata": {},
     "output_type": "display_data"
    },
    {
     "data": {
      "image/png": "[encoded data removed]",
      "text/plain": [
       "<Figure size 432x288 with 1 Axes>"
      ]
     },
     "metadata": {},
     "output_type": "display_data"
    }
   ],
   "source": [
    "N = EPOCHS\n",
    "plt.style.use(\"ggplot\")\n",
    "plt.figure()\n",
    "plt.plot(np.arange(0, N), H.history[\"loss\"], label=\"train_loss\")\n",
    "plt.plot(np.arange(0, N), H.history[\"val_loss\"], label=\"val_loss\")\n",
    "plt.legend(loc=\"lower left\")\n",
    "\n",
    "plt.figure()\n",
    "plt.plot(np.arange(0, N), H.history[\"acc\"], label=\"train_acc\")\n",
    "plt.plot(np.arange(0, N), H.history[\"val_acc\"], label=\"val_acc\")\n",
    "plt.title(\"Training Loss and Accuracy on COVID-19 Dataset\")\n",
    "plt.xlabel(\"Epoch #\")\n",
    "plt.ylabel(\"Loss/Accuracy\")\n",
    "plt.legend(loc=\"lower left\")\n",
    "plt.show()"
   ]
  },
  {
   "cell_type": "code",
   "execution_count": 87,
   "metadata": {},
   "outputs": [],
   "source": [
    "from tensorflow.keras import backend as K\n",
    "# This line must be executed before loading Keras model.\n",
    "K.set_learning_phase(0)"
   ]
  },
  {
   "cell_type": "code",
   "execution_count": 88,
   "metadata": {},
   "outputs": [],
   "source": [
    "def freeze_session(session, keep_var_names=None, output_names=None, clear_devices=True):\n",
    "    \"\"\"\n",
    "    Freezes the state of a session into a pruned computation graph.\n",
    "\n",
    "    Creates a new computation graph where variable nodes are replaced by\n",
    "    constants taking their current value in the session. The new graph will be\n",
    "    pruned so subgraphs that are not necessary to compute the requested\n",
    "    outputs are removed.\n",
    "    @param session The TensorFlow session to be frozen.\n",
    "    @param keep_var_names A list of variable names that should not be frozen,\n",
    "                          or None to freeze all the variables in the graph.\n",
    "    @param output_names Names of the relevant graph outputs.\n",
    "    @param clear_devices Remove the device directives from the graph for better portability.\n",
    "    @return The frozen graph definition.\n",
    "    \"\"\"\n",
    "    from tensorflow.python.framework.graph_util import convert_variables_to_constants\n",
    "    graph = session.graph\n",
    "    with graph.as_default():\n",
    "        freeze_var_names = list(set(v.op.name for v in tf.global_variables()).difference(keep_var_names or []))\n",
    "        output_names = output_names or []\n",
    "        output_names += [v.op.name for v in tf.global_variables()]\n",
    "        # Graph -> GraphDef ProtoBuf\n",
    "        input_graph_def = graph.as_graph_def()\n",
    "        if clear_devices:\n",
    "            for node in input_graph_def.node:\n",
    "                node.device = \"\"\n",
    "        frozen_graph = convert_variables_to_constants(session, input_graph_def,\n",
    "                                                      output_names, freeze_var_names)\n",
    "        return frozen_graph"
   ]
  },
  {
   "cell_type": "code",
   "execution_count": 89,
   "metadata": {},
   "outputs": [
    {
     "name": "stdout",
     "output_type": "stream",
     "text": [
      "INFO:tensorflow:Froze 94 variables.\n",
      "INFO:tensorflow:Converted 94 variables to const ops.\n"
     ]
    }
   ],
   "source": [
    "frozen_graph = freeze_session(tf.keras.backend.get_session(),\n",
    "                              output_names=[out.op.name for out in model.outputs])"
   ]
  },
  {
   "cell_type": "code",
   "execution_count": 90,
   "metadata": {},
   "outputs": [],
   "source": [
    "from datetime import datetime\n",
    "timestamp = str(datetime.now().strftime(\"%d_%m_%Y__%H_%M_%S\"))\n",
    "model_name = 'tf_model_' + timestamp + '.pb'\n",
    "model_name\n",
    "path = tf.train.write_graph(frozen_graph, \".\", model_name, as_text=False)"
   ]
  },
  {
   "cell_type": "code",
   "execution_count": 91,
   "metadata": {},
   "outputs": [
    {
     "name": "stdout",
     "output_type": "stream",
     "text": [
      "Model saved to ./tf_model_31_03_2020__12_38_09.pb\n"
     ]
    }
   ],
   "source": [
    "print(f'Model saved to {path}')"
   ]
  },
  {
   "cell_type": "code",
   "execution_count": 92,
   "metadata": {},
   "outputs": [
    {
     "name": "stdout",
     "output_type": "stream",
     "text": [
      "Deleting tf_model_31_03_2020__12_07_55.pb\n"
     ]
    }
   ],
   "source": [
    "azure_models = file_service.list_directories_and_files('covid-share/model')\n",
    "\n",
    "for file in azure_models:\n",
    "    print(f'Deleting {file.name}')\n",
    "    file_service.delete_file('covid-share', 'model', file.name)"
   ]
  },
  {
   "cell_type": "code",
   "execution_count": 93,
   "metadata": {},
   "outputs": [],
   "source": [
    "def upload_to_azure(filename):\n",
    "\tprint(f'Uploading {filename}')\n",
    "\n",
    "\tfile_service.create_file_from_path(\n",
    "\t    'covid-share',\n",
    "\t    'model', \n",
    "\t    filename,\n",
    "\t    filename)"
   ]
  },
  {
   "cell_type": "code",
   "execution_count": 94,
   "metadata": {},
   "outputs": [
    {
     "name": "stdout",
     "output_type": "stream",
     "text": [
      "Uploading tf_model_31_03_2020__12_38_09.pb\n"
     ]
    }
   ],
   "source": [
    "upload_to_azure(path[2:])"
   ]
  },
  {
   "cell_type": "code",
   "execution_count": null,
   "metadata": {},
   "outputs": [],
   "source": []
  },
  {
   "cell_type": "code",
   "execution_count": null,
   "metadata": {},
   "outputs": [],
   "source": []
  }
 ],
 "metadata": {
  "colab": {
   "name": "Train from Storage.ipynb",
   "provenance": [],
   "toc_visible": true
  },
  "kernelspec": {
   "display_name": "Python 3",
   "language": "python",
   "name": "python3"
  },
  "language_info": {
   "codemirror_mode": {
    "name": "ipython",
    "version": 3
   },
   "file_extension": ".py",
   "mimetype": "text/x-python",
   "name": "python",
   "nbconvert_exporter": "python",
   "pygments_lexer": "ipython3",
   "version": "3.6.9"
  }
 },
 "nbformat": 4,
 "nbformat_minor": 1
}
